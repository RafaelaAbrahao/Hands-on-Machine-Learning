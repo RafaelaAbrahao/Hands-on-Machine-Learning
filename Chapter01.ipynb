{
 "cells": [
  {
   "cell_type": "markdown",
   "id": "9f516a47-80f1-4120-bb79-f3c8c5b5a6cb",
   "metadata": {},
   "source": [
    "# Exercises\n",
    "1) **How would you define Machine Learning?** ML is a subfield of artificial intelligence that focuses on the development of algorithms and techniques that enable computers to learn patterns from data without being explicitly programmed to perform a specific task. In other words, instead of following detailed instructions, machine learning systems are capable of 'learning' from examples and past experiences to make decisions or predictions. Machine learning involves the creation of models that can identify patterns in data, generalize from them, and apply this knowledge to make decisions or predictions about new data. These models are trained using historical datasets and, once trained, can be used to automate tasks, classify information, predict outcomes, or detect anomalies, among other applications.\n",
    "\n",
    "2) **Can you name four types of problems where it shines?** ML is great for solving problems such as:\n",
    "\n",
    "- Complex problems that do not have an algorithmic solution\n",
    "\n",
    "- Building systems that adapt to unstable environments\n",
    "\n",
    "- Replacing large lists of manual rules\n",
    "\n",
    "- Helping humans learn\n",
    "\n",
    "3) **What is a labeled training set?** It's a type of training set that includes the desired outputs (or labels) for each example\n",
    "\n",
    "4) **What are the two most common supervised tasks?**\n",
    "\n",
    "5) **Can you name four common unsupervised tasks?**\n",
    "\n",
    "6) **What type of machine learning algorithm would you use to allow a robot to walk in many paths in an unknown terrain?**\n",
    "\n",
    "7) **What type of algorithm would you use to segment your customers into multiple groups?**\n",
    "\n",
    "8) **Would you frame the problem of spam detection as a supervised learning or an unsupervised learning problem?**\n",
    "\n",
    "9) **What is an online learning system?**\n",
    "\n",
    "10) **What is out-of-core learning?**\n",
    "\n",
    "11) **What type of learning algorithm relies on a similarity measure to make predictions?**\n",
    "\n",
    "12) **What is the difference between a model's parameters and a learning algorithm's hyper-parameter?**\n",
    "\n",
    "13) **What do model-based algorithms search for?  What is the most common strategy they use to succeed? How do they make predictions?**\n",
    "\n",
    "14) **Can you name 4 of the main challenges in machine learning?**\n",
    "\n",
    "15) **If your model performs great on the training data but fails on the test data, What is happening? Can you name 3 possible solutions?**\n",
    "\n",
    "16) **What is a test set? & Why you would want to use it?**\n",
    "\n",
    "17) **What is the purpose of a validation set?**\n",
    "\n",
    "18) **What is the train-dev set?, When do you use it? & How do you use it?**\n",
    "\n",
    "19) **What is the train-dev set?, When do you use it? & How do you use it?**"
   ]
  },
  {
   "cell_type": "code",
   "execution_count": null,
   "id": "ef73f6e1-e94f-44fd-bb1c-1d077bf09e39",
   "metadata": {},
   "outputs": [],
   "source": []
  }
 ],
 "metadata": {
  "kernelspec": {
   "display_name": "Python 3 (ipykernel)",
   "language": "python",
   "name": "python3"
  },
  "language_info": {
   "codemirror_mode": {
    "name": "ipython",
    "version": 3
   },
   "file_extension": ".py",
   "mimetype": "text/x-python",
   "name": "python",
   "nbconvert_exporter": "python",
   "pygments_lexer": "ipython3",
   "version": "3.8.10"
  }
 },
 "nbformat": 4,
 "nbformat_minor": 5
}
