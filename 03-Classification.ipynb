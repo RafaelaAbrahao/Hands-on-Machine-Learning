{
 "cells": [
  {
   "cell_type": "markdown",
   "id": "def03bd8-90f3-4da2-b1d8-14fc79727004",
   "metadata": {},
   "source": [
    "# Classification"
   ]
  },
  {
   "cell_type": "markdown",
   "id": "4c97c872-8a16-4279-b8b8-a3f5d1bf985d",
   "metadata": {},
   "source": [
    "## MNIST\n",
    "\n",
    "This chapter uses the MNIST dataset, containing 70,000 small images of handwritten digits labeled with their corresponding numbers. Created by high school students and US Census Bureau employees, MNIST is so widely studied that it's considered Machine Learning's \"hello world.\" Researchers test new classification algorithms on it, and it's a fundamental dataset for ML learners. Scikit-Learn includes helper functions to download MNIST and other popular datasets, as shown in the provided code."
   ]
  },
  {
   "cell_type": "code",
   "execution_count": 4,
   "id": "b3cb8fe2-7126-434b-9601-050993919d71",
   "metadata": {},
   "outputs": [],
   "source": [
    "import numpy as np\n",
    "import pandas as pd\n",
    "import matplotlib.pyplot as plt\n",
    "import sklearn"
   ]
  },
  {
   "cell_type": "markdown",
   "id": "dd7e2337-10c1-44d6-8f9f-aeb02dacde99",
   "metadata": {},
   "source": [
    "- importing libs again"
   ]
  },
  {
   "cell_type": "code",
   "execution_count": 5,
   "id": "c26f8648-46a0-4493-bf72-d0841b777485",
   "metadata": {},
   "outputs": [],
   "source": [
    "from sklearn.datasets import fetch_openml"
   ]
  },
  {
   "cell_type": "code",
   "execution_count": 10,
   "id": "56480a7c-dea0-486c-b9a5-293cb6b26aa0",
   "metadata": {},
   "outputs": [
    {
     "data": {
      "text/plain": [
       "dict_keys(['data', 'target', 'frame', 'categories', 'feature_names', 'target_names', 'DESCR', 'details', 'url'])"
      ]
     },
     "execution_count": 10,
     "metadata": {},
     "output_type": "execute_result"
    }
   ],
   "source": [
    "mnist = fetch_openml(name='mnist_784', version=1, parser='auto')\n",
    "mnist.keys()"
   ]
  },
  {
   "cell_type": "markdown",
   "id": "057ecefe-4467-4af5-9184-53ed13057a8c",
   "metadata": {},
   "source": [
    "- The `parser='auto'` command was added due to a warning about a future change in scikit-learn's `fetch_openml()` function."
   ]
  },
  {
   "cell_type": "markdown",
   "id": "16425374-cffc-4817-9f57-f3d299971b2b",
   "metadata": {},
   "source": [
    "Datasets loaded by Scikit-Learn generally have a similar dictionary structure, includ‐\n",
    "ing the following:\n",
    "- A DESCR key describing the dataset\n",
    "- A data key containing an array with one row per instance and one column per feature\n",
    "- A target key containing an array with the labels\n",
    "\n",
    "Let’s look at these arrays:"
   ]
  },
  {
   "cell_type": "code",
   "execution_count": 11,
   "id": "2755cd50-584e-4797-b6c2-19ee11e916bf",
   "metadata": {},
   "outputs": [],
   "source": [
    "X, y = mnist[\"data\"], mnist[\"target\"]"
   ]
  },
  {
   "cell_type": "code",
   "execution_count": 12,
   "id": "940b520a-f4a0-4992-a443-920952417c17",
   "metadata": {},
   "outputs": [
    {
     "data": {
      "text/plain": [
       "(70000, 784)"
      ]
     },
     "execution_count": 12,
     "metadata": {},
     "output_type": "execute_result"
    }
   ],
   "source": [
    "X.shape"
   ]
  },
  {
   "cell_type": "code",
   "execution_count": 13,
   "id": "e77c901d-eca7-4bc1-879a-176ca05f06f7",
   "metadata": {},
   "outputs": [
    {
     "data": {
      "text/plain": [
       "(70000,)"
      ]
     },
     "execution_count": 13,
     "metadata": {},
     "output_type": "execute_result"
    }
   ],
   "source": [
    "y.shape"
   ]
  },
  {
   "cell_type": "markdown",
   "id": "59dcb816-e6d8-4d5b-8deb-a5e04d1c50fd",
   "metadata": {},
   "source": [
    "There are 70,000 images, and each image has 784 features. This is because each image is 28×28 pixels, and each feature represents one pixel's intensity, ranging from 0 (white) to 255 (black). Let’s look at one digit from the dataset: grab an instance’s feature vector, reshape it to a 28×28 array, and display it using Matplotlib’s `imshow()` function."
   ]
  },
  {
   "cell_type": "code",
   "execution_count": 21,
   "id": "b34904df-008a-43bb-a252-c1a2cb17bb1e",
   "metadata": {},
   "outputs": [],
   "source": [
    "import matplotlib as mpl"
   ]
  },
  {
   "cell_type": "code",
   "execution_count": 24,
   "id": "166aa6b8-0b2f-4c58-948a-728d79767ab6",
   "metadata": {},
   "outputs": [],
   "source": [
    "some_digit = X.iloc[0].values  # Get first row as NumPy array\n",
    "some_digit_image = some_digit.reshape(28, 28)  # Now reshape works"
   ]
  },
  {
   "cell_type": "markdown",
   "id": "4d410ddd-5c43-4f40-84ce-db8f00eb8d73",
   "metadata": {},
   "source": [
    "- The book doesn't convert the data to a NumPy array, but converting it first is necessary. I don’t fully understand why the book didn’t do this..."
   ]
  },
  {
   "cell_type": "code",
   "execution_count": 25,
   "id": "767aaabc-9961-4d0d-a062-a7306b60b962",
   "metadata": {},
   "outputs": [
    {
     "data": {
      "image/png": "[encoded data removed]",
      "text/plain": [
       "<Figure size 640x480 with 1 Axes>"
      ]
     },
     "metadata": {},
     "output_type": "display_data"
    }
   ],
   "source": [
    "plt.imshow(some_digit_image, cmap=\"binary\")\n",
    "plt.axis(\"off\")\n",
    "plt.show()"
   ]
  },
  {
   "cell_type": "markdown",
   "id": "d4a8f5e7-5920-43d2-9af0-6654cbc7fd84",
   "metadata": {},
   "source": [
    "- This looks like a 5 (kinda), and indeed that’s what the label tells us:"
   ]
  },
  {
   "cell_type": "code",
   "execution_count": 26,
   "id": "45949b65-3659-412f-ad90-781bbcef4590",
   "metadata": {},
   "outputs": [
    {
     "data": {
      "text/plain": [
       "'5'"
      ]
     },
     "execution_count": 26,
     "metadata": {},
     "output_type": "execute_result"
    }
   ],
   "source": [
    "y[0]"
   ]
  },
  {
   "cell_type": "markdown",
   "id": "2b4f9d67-91d6-4b4c-bd49-d4466cf45e6e",
   "metadata": {},
   "source": [
    "- Always create a test set and set it aside before inspecting the data closely. The MNIST dataset is actually already split into a training set (the first 60,000 images) and a test set (the last 10,000 images)"
   ]
  },
  {
   "cell_type": "code",
   "execution_count": 27,
   "id": "4dff89c7-670d-42c1-a23c-001206a2d1d1",
   "metadata": {},
   "outputs": [],
   "source": [
    "X_train, X_test, y_train, y_test = X[:60000], X[60000:], y[:60000], y[60000:]"
   ]
  },
  {
   "cell_type": "markdown",
   "id": "3ff45090-503e-46f3-9a90-36d2eb8b6ca7",
   "metadata": {},
   "source": [
    "The training set is already shuffled for us, which is good because this guarantees that all cross-validation folds will be similar (you don’t want one fold to be missing some digits). Moreover, some learning algorithms are sensitive to the order of the training instances, and they perform poorly if they get many similar instances in a row. Shuf‐fling the dataset ensures that this won’t happen."
   ]
  }
 ],
 "metadata": {
  "kernelspec": {
   "display_name": "Python 3 (ipykernel)",
   "language": "python",
   "name": "python3"
  },
  "language_info": {
   "codemirror_mode": {
    "name": "ipython",
    "version": 3
   },
   "file_extension": ".py",
   "mimetype": "text/x-python",
   "name": "python",
   "nbconvert_exporter": "python",
   "pygments_lexer": "ipython3",
   "version": "3.8.10"
  }
 },
 "nbformat": 4,
 "nbformat_minor": 5
}
